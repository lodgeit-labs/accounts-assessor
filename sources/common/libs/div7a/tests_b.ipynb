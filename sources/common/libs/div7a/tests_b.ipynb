{
 "cells": [
  {
   "cell_type": "code",
   "execution_count": 1,
   "id": "initial_id",
   "metadata": {
    "collapsed": true,
    "ExecuteTime": {
     "end_time": "2023-12-05T22:19:04.606662588Z",
     "start_time": "2023-12-05T22:19:04.364422415Z"
    }
   },
   "outputs": [
    {
     "name": "stdout",
     "output_type": "stream",
     "text": [
      "evaluate_myr_checks\n"
     ]
    },
    {
     "data": {
      "text/plain": "<IPython.core.display.HTML object>",
      "text/html": "<table border=\"1\" class=\"dataframe\">\n  <thead>\n    <tr style=\"text-align: right;\">\n      <th>uuid</th>\n      <th>year</th>\n      <th>remain</th>\n      <th>fiscal</th>\n      <th>date</th>\n      <th>type</th>\n      <th>final_balance</th>\n      <th>term</th>\n      <th>note</th>\n      <th>rate</th>\n      <th>amount</th>\n      <th>days</th>\n      <th>sorting</th>\n      <th>interest_accrued</th>\n      <th>total_repaid</th>\n      <th>total_repaid_for_myr_calc</th>\n      <th>counts_towards_initial_balance</th>\n      <th>myr_required</th>\n      <th>shortfall</th>\n      <th>excess</th>\n      <th>principal</th>\n      <th>periods</th>\n      <th>myr_check_previous_income_year_final_balance</th>\n    </tr>\n  </thead>\n  <tbody>\n    <tr>\n      <td>1</td>\n      <td>0</td>\n      <td></td>\n      <td>1998</td>\n      <td>1998-06-30</td>\n      <td>loan_start</td>\n      <td></td>\n      <td>1</td>\n      <td></td>\n      <td></td>\n      <td></td>\n      <td></td>\n      <td></td>\n      <td></td>\n      <td></td>\n      <td></td>\n      <td></td>\n      <td></td>\n      <td></td>\n      <td></td>\n      <td>298.0</td>\n      <td>NaN</td>\n      <td>NaN</td>\n    </tr>\n    <tr>\n      <td>22</td>\n      <td>0</td>\n      <td></td>\n      <td>1998</td>\n      <td>1998-06-30</td>\n      <td>opening_balance</td>\n      <td>298.0</td>\n      <td></td>\n      <td></td>\n      <td></td>\n      <td>298.0</td>\n      <td></td>\n      <td></td>\n      <td></td>\n      <td></td>\n      <td></td>\n      <td></td>\n      <td></td>\n      <td></td>\n      <td></td>\n      <td></td>\n      <td>NaN</td>\n      <td>NaN</td>\n    </tr>\n    <tr>\n      <td>2</td>\n      <td>1</td>\n      <td>1</td>\n      <td>1999</td>\n      <td>1998-07-01</td>\n      <td>calculation_start</td>\n      <td>298.0</td>\n      <td></td>\n      <td></td>\n      <td></td>\n      <td></td>\n      <td></td>\n      <td></td>\n      <td></td>\n      <td></td>\n      <td></td>\n      <td></td>\n      <td></td>\n      <td></td>\n      <td></td>\n      <td></td>\n      <td>NaN</td>\n      <td>NaN</td>\n    </tr>\n    <tr>\n      <td>31</td>\n      <td>1</td>\n      <td>1</td>\n      <td>1999</td>\n      <td>1999-01-01</td>\n      <td>interest_calc</td>\n      <td>298.0</td>\n      <td></td>\n      <td>for period up until repayment</td>\n      <td>6.7</td>\n      <td></td>\n      <td>184</td>\n      <td>{'goes_before': 1999-01-01:repayment({'amount': 40.0})}</td>\n      <td>10.065052</td>\n      <td></td>\n      <td></td>\n      <td></td>\n      <td></td>\n      <td></td>\n      <td></td>\n      <td></td>\n      <td>NaN</td>\n      <td>NaN</td>\n    </tr>\n    <tr>\n      <td>5</td>\n      <td>1</td>\n      <td>1</td>\n      <td>1999</td>\n      <td>1999-01-01</td>\n      <td>repayment</td>\n      <td>258.0</td>\n      <td></td>\n      <td></td>\n      <td></td>\n      <td>40.0</td>\n      <td></td>\n      <td></td>\n      <td></td>\n      <td></td>\n      <td></td>\n      <td>True</td>\n      <td></td>\n      <td></td>\n      <td></td>\n      <td></td>\n      <td>NaN</td>\n      <td>NaN</td>\n    </tr>\n    <tr>\n      <td>32</td>\n      <td>1</td>\n      <td>1</td>\n      <td>1999</td>\n      <td>1999-05-01</td>\n      <td>interest_calc</td>\n      <td>258.0</td>\n      <td></td>\n      <td>for period up until repayment</td>\n      <td>6.7</td>\n      <td></td>\n      <td>120</td>\n      <td>{'goes_before': 1999-05-01:repayment({'amount': 40.0})}</td>\n      <td>5.683068</td>\n      <td></td>\n      <td></td>\n      <td></td>\n      <td></td>\n      <td></td>\n      <td></td>\n      <td></td>\n      <td>NaN</td>\n      <td>NaN</td>\n    </tr>\n    <tr>\n      <td>6</td>\n      <td>1</td>\n      <td>1</td>\n      <td>1999</td>\n      <td>1999-05-01</td>\n      <td>repayment</td>\n      <td>218.0</td>\n      <td></td>\n      <td></td>\n      <td></td>\n      <td>40.0</td>\n      <td></td>\n      <td></td>\n      <td></td>\n      <td></td>\n      <td></td>\n      <td>True</td>\n      <td></td>\n      <td></td>\n      <td></td>\n      <td></td>\n      <td>NaN</td>\n      <td>NaN</td>\n    </tr>\n    <tr>\n      <td>7</td>\n      <td>1</td>\n      <td>1</td>\n      <td>1999</td>\n      <td>1999-06-04</td>\n      <td>lodgement</td>\n      <td>218.0</td>\n      <td></td>\n      <td></td>\n      <td></td>\n      <td></td>\n      <td></td>\n      <td></td>\n      <td></td>\n      <td></td>\n      <td></td>\n      <td></td>\n      <td></td>\n      <td></td>\n      <td></td>\n      <td></td>\n      <td>NaN</td>\n      <td>NaN</td>\n    </tr>\n    <tr>\n      <td>34</td>\n      <td>1</td>\n      <td>1</td>\n      <td>1999</td>\n      <td>1999-06-30</td>\n      <td>closing_interest_calc</td>\n      <td>218.0</td>\n      <td></td>\n      <td>for period until income year end</td>\n      <td>6.7</td>\n      <td></td>\n      <td>61</td>\n      <td>{'goes_before': 1999-06-30:income_year_end({})}</td>\n      <td>2.441003</td>\n      <td></td>\n      <td></td>\n      <td></td>\n      <td></td>\n      <td></td>\n      <td></td>\n      <td></td>\n      <td>NaN</td>\n      <td>NaN</td>\n    </tr>\n    <tr>\n      <td>33</td>\n      <td>1</td>\n      <td>1</td>\n      <td>1999</td>\n      <td>1999-06-30</td>\n      <td>income_year_end</td>\n      <td>236.189123</td>\n      <td></td>\n      <td></td>\n      <td></td>\n      <td></td>\n      <td></td>\n      <td></td>\n      <td>18.189123</td>\n      <td></td>\n      <td></td>\n      <td></td>\n      <td></td>\n      <td></td>\n      <td></td>\n      <td></td>\n      <td>3.0</td>\n      <td>NaN</td>\n    </tr>\n    <tr>\n      <td>83</td>\n      <td>1</td>\n      <td>1</td>\n      <td>1999</td>\n      <td>1999-06-30</td>\n      <td>myr_check</td>\n      <td>236.189123</td>\n      <td></td>\n      <td></td>\n      <td></td>\n      <td></td>\n      <td></td>\n      <td></td>\n      <td></td>\n      <td>80.0</td>\n      <td>0</td>\n      <td></td>\n      <td>232.606</td>\n      <td>152.606</td>\n      <td>-152.606</td>\n      <td></td>\n      <td>NaN</td>\n      <td>218.0</td>\n    </tr>\n    <tr>\n      <td>3</td>\n      <td>1</td>\n      <td>1</td>\n      <td>1999</td>\n      <td>1999-06-30</td>\n      <td>calculation_end</td>\n      <td>236.189123</td>\n      <td></td>\n      <td></td>\n      <td></td>\n      <td></td>\n      <td></td>\n      <td></td>\n      <td></td>\n      <td></td>\n      <td></td>\n      <td></td>\n      <td></td>\n      <td></td>\n      <td></td>\n      <td></td>\n      <td>NaN</td>\n      <td>NaN</td>\n    </tr>\n    <tr>\n      <td>4</td>\n      <td>1</td>\n      <td>1</td>\n      <td>1999</td>\n      <td>1999-06-30</td>\n      <td>loan_term_end</td>\n      <td></td>\n      <td></td>\n      <td></td>\n      <td></td>\n      <td></td>\n      <td></td>\n      <td></td>\n      <td></td>\n      <td></td>\n      <td></td>\n      <td></td>\n      <td></td>\n      <td></td>\n      <td></td>\n      <td></td>\n      <td>NaN</td>\n      <td>NaN</td>\n    </tr>\n  </tbody>\n</table>"
     },
     "metadata": {},
     "output_type": "display_data"
    },
    {
     "data": {
      "text/plain": "{'income_year': 1999,\n 'opening_balance': 298.0,\n 'interest_rate': 6.7,\n 'min_yearly_repayment': 232.60600000000008,\n 'total_repayment': 80.0,\n 'repayment_shortfall': 152.60600000000008,\n 'total_interest': 18.189123287671237,\n 'total_principal': 61.81087671232876,\n 'closing_balance': 236.18912328767124}"
     },
     "execution_count": 1,
     "metadata": {},
     "output_type": "execute_result"
    }
   ],
   "source": [
    "%load_ext autoreload\n",
    "%autoreload 2\n",
    "from app.div7a import *\n",
    "div7a_from_json({'creation_income_year': '1998', 'term': '1', 'computation_income_year': '1999', 'opening_balance': -1, 'principal_amount': '298', \"repayments\": [\n",
    "\t{\"date\": \"1999-01-01\", \"value\": \"40\"},\n",
    "\t{\"date\": \"1999-05-01\", \"value\": \"40\"}], 'lodgement_date': '1999-06-04'\n",
    "\t\t\t\t })\n",
    "\n"
   ]
  }
 ],
 "metadata": {
  "kernelspec": {
   "display_name": "Python 3",
   "language": "python",
   "name": "python3"
  },
  "language_info": {
   "codemirror_mode": {
    "name": "ipython",
    "version": 2
   },
   "file_extension": ".py",
   "mimetype": "text/x-python",
   "name": "python",
   "nbconvert_exporter": "python",
   "pygments_lexer": "ipython2",
   "version": "2.7.6"
  }
 },
 "nbformat": 4,
 "nbformat_minor": 5
}
