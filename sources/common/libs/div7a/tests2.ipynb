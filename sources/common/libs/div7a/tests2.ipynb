{
 "cells": [
  {
   "cell_type": "code",
   "execution_count": 28,
   "outputs": [
    {
     "name": "stdout",
     "output_type": "stream",
     "text": [
      "The autoreload extension is already loaded. To reload it, use:\n",
      "  %reload_ext autoreload\n",
      "evaluate_myr_checks\n"
     ]
    },
    {
     "data": {
      "text/plain": "<IPython.core.display.HTML object>",
      "text/html": "<table border=\"1\" class=\"dataframe\">\n  <thead>\n    <tr style=\"text-align: right;\">\n      <th>uuid</th>\n      <th>year</th>\n      <th>remain</th>\n      <th>fiscal</th>\n      <th>date</th>\n      <th>type</th>\n      <th>final_balance</th>\n      <th>term</th>\n      <th>note</th>\n      <th>rate</th>\n      <th>amount</th>\n      <th>days</th>\n      <th>sorting</th>\n      <th>interest_accrued</th>\n      <th>total_repaid</th>\n      <th>total_repaid_for_myr_calc</th>\n      <th>counts_towards_initial_balance</th>\n      <th>myr_required</th>\n      <th>shortfall</th>\n      <th>excess</th>\n      <th>principal</th>\n      <th>periods</th>\n      <th>myr_check_previous_income_year_final_balance</th>\n    </tr>\n  </thead>\n  <tbody>\n    <tr>\n      <td>1517</td>\n      <td>0</td>\n      <td></td>\n      <td>1998</td>\n      <td>1998-06-30</td>\n      <td>loan_start</td>\n      <td></td>\n      <td>1</td>\n      <td></td>\n      <td></td>\n      <td></td>\n      <td></td>\n      <td></td>\n      <td></td>\n      <td></td>\n      <td></td>\n      <td></td>\n      <td></td>\n      <td></td>\n      <td></td>\n      <td>None</td>\n      <td>NaN</td>\n      <td>NaN</td>\n    </tr>\n    <tr>\n      <td>1521</td>\n      <td>0</td>\n      <td></td>\n      <td>1998</td>\n      <td>1998-06-30</td>\n      <td>opening_balance</td>\n      <td>298.0</td>\n      <td></td>\n      <td></td>\n      <td></td>\n      <td>298.0</td>\n      <td></td>\n      <td></td>\n      <td></td>\n      <td></td>\n      <td></td>\n      <td></td>\n      <td></td>\n      <td></td>\n      <td></td>\n      <td></td>\n      <td>NaN</td>\n      <td>NaN</td>\n    </tr>\n    <tr>\n      <td>1518</td>\n      <td>1</td>\n      <td>1</td>\n      <td>1999</td>\n      <td>1998-07-01</td>\n      <td>calculation_start</td>\n      <td>298.0</td>\n      <td></td>\n      <td></td>\n      <td></td>\n      <td></td>\n      <td></td>\n      <td></td>\n      <td></td>\n      <td></td>\n      <td></td>\n      <td></td>\n      <td></td>\n      <td></td>\n      <td></td>\n      <td></td>\n      <td>NaN</td>\n      <td>NaN</td>\n    </tr>\n    <tr>\n      <td>1549</td>\n      <td>1</td>\n      <td>1</td>\n      <td>1999</td>\n      <td>1999-01-01</td>\n      <td>interest_calc</td>\n      <td>298.0</td>\n      <td></td>\n      <td>for period up until repayment</td>\n      <td>6.7</td>\n      <td></td>\n      <td>184</td>\n      <td>{'goes_before': 1999-01-01:repayment({'amount': 40.0})}</td>\n      <td>10.065052</td>\n      <td></td>\n      <td></td>\n      <td></td>\n      <td></td>\n      <td></td>\n      <td></td>\n      <td></td>\n      <td>NaN</td>\n      <td>NaN</td>\n    </tr>\n    <tr>\n      <td>1522</td>\n      <td>1</td>\n      <td>1</td>\n      <td>1999</td>\n      <td>1999-01-01</td>\n      <td>repayment</td>\n      <td>258.0</td>\n      <td></td>\n      <td></td>\n      <td></td>\n      <td>40.0</td>\n      <td></td>\n      <td></td>\n      <td></td>\n      <td></td>\n      <td></td>\n      <td>True</td>\n      <td></td>\n      <td></td>\n      <td></td>\n      <td></td>\n      <td>NaN</td>\n      <td>NaN</td>\n    </tr>\n    <tr>\n      <td>1524</td>\n      <td>1</td>\n      <td>1</td>\n      <td>1999</td>\n      <td>1999-02-04</td>\n      <td>lodgement</td>\n      <td>258.0</td>\n      <td></td>\n      <td></td>\n      <td></td>\n      <td></td>\n      <td></td>\n      <td></td>\n      <td></td>\n      <td></td>\n      <td></td>\n      <td></td>\n      <td></td>\n      <td></td>\n      <td></td>\n      <td></td>\n      <td>NaN</td>\n      <td>NaN</td>\n    </tr>\n    <tr>\n      <td>1550</td>\n      <td>1</td>\n      <td>1</td>\n      <td>1999</td>\n      <td>1999-05-01</td>\n      <td>interest_calc</td>\n      <td>258.0</td>\n      <td></td>\n      <td>for period up until repayment</td>\n      <td>6.7</td>\n      <td></td>\n      <td>120</td>\n      <td>{'goes_before': 1999-05-01:repayment({'amount': 40.0})}</td>\n      <td>5.683068</td>\n      <td></td>\n      <td></td>\n      <td></td>\n      <td></td>\n      <td></td>\n      <td></td>\n      <td></td>\n      <td>NaN</td>\n      <td>NaN</td>\n    </tr>\n    <tr>\n      <td>1523</td>\n      <td>1</td>\n      <td>1</td>\n      <td>1999</td>\n      <td>1999-05-01</td>\n      <td>repayment</td>\n      <td>218.0</td>\n      <td></td>\n      <td></td>\n      <td></td>\n      <td>40.0</td>\n      <td></td>\n      <td></td>\n      <td></td>\n      <td></td>\n      <td></td>\n      <td>False</td>\n      <td></td>\n      <td></td>\n      <td></td>\n      <td></td>\n      <td>NaN</td>\n      <td>NaN</td>\n    </tr>\n    <tr>\n      <td>1552</td>\n      <td>1</td>\n      <td>1</td>\n      <td>1999</td>\n      <td>1999-06-30</td>\n      <td>closing_interest_calc</td>\n      <td>218.0</td>\n      <td></td>\n      <td>for period until income year end</td>\n      <td>6.7</td>\n      <td></td>\n      <td>61</td>\n      <td>{'goes_before': 1999-06-30:income_year_end({})}</td>\n      <td>2.441003</td>\n      <td></td>\n      <td></td>\n      <td></td>\n      <td></td>\n      <td></td>\n      <td></td>\n      <td></td>\n      <td>NaN</td>\n      <td>NaN</td>\n    </tr>\n    <tr>\n      <td>1551</td>\n      <td>1</td>\n      <td>1</td>\n      <td>1999</td>\n      <td>1999-06-30</td>\n      <td>income_year_end</td>\n      <td>236.189123</td>\n      <td></td>\n      <td></td>\n      <td></td>\n      <td></td>\n      <td></td>\n      <td></td>\n      <td>18.189123</td>\n      <td></td>\n      <td></td>\n      <td></td>\n      <td></td>\n      <td></td>\n      <td></td>\n      <td></td>\n      <td>3.0</td>\n      <td>NaN</td>\n    </tr>\n    <tr>\n      <td>1601</td>\n      <td>1</td>\n      <td>1</td>\n      <td>1999</td>\n      <td>1999-06-30</td>\n      <td>myr_check</td>\n      <td>236.189123</td>\n      <td></td>\n      <td></td>\n      <td></td>\n      <td></td>\n      <td></td>\n      <td></td>\n      <td></td>\n      <td>80.0</td>\n      <td>40.0</td>\n      <td></td>\n      <td>275.286</td>\n      <td>195.286</td>\n      <td>-195.286</td>\n      <td></td>\n      <td>NaN</td>\n      <td>258.0</td>\n    </tr>\n    <tr>\n      <td>1519</td>\n      <td>1</td>\n      <td>1</td>\n      <td>1999</td>\n      <td>1999-06-30</td>\n      <td>calculation_end</td>\n      <td>236.189123</td>\n      <td></td>\n      <td></td>\n      <td></td>\n      <td></td>\n      <td></td>\n      <td></td>\n      <td></td>\n      <td></td>\n      <td></td>\n      <td></td>\n      <td></td>\n      <td></td>\n      <td></td>\n      <td></td>\n      <td>NaN</td>\n      <td>NaN</td>\n    </tr>\n    <tr>\n      <td>1520</td>\n      <td>1</td>\n      <td>1</td>\n      <td>1999</td>\n      <td>1999-06-30</td>\n      <td>loan_term_end</td>\n      <td></td>\n      <td></td>\n      <td></td>\n      <td></td>\n      <td></td>\n      <td></td>\n      <td></td>\n      <td></td>\n      <td></td>\n      <td></td>\n      <td></td>\n      <td></td>\n      <td></td>\n      <td></td>\n      <td></td>\n      <td>NaN</td>\n      <td>NaN</td>\n    </tr>\n  </tbody>\n</table>"
     },
     "metadata": {},
     "output_type": "display_data"
    },
    {
     "data": {
      "text/plain": "{'income_year': 1999,\n 'opening_balance': 298.0,\n 'interest_rate': 6.7,\n 'min_yearly_repayment': 275.28600000000006,\n 'total_repayment': 80.0,\n 'repayment_shortfall': 195.28600000000006,\n 'total_interest': 18.189123287671237,\n 'total_principal': 61.81087671232876,\n 'closing_balance': 236.18912328767124}"
     },
     "execution_count": 28,
     "metadata": {},
     "output_type": "execute_result"
    }
   ],
   "source": [
    "%load_ext autoreload\n",
    "%autoreload 2\n",
    "from app.div7a import *\n",
    "div7a_from_json({'creation_income_year': '1998', 'term': '1', 'computation_income_year': '1999', 'opening_balance': '298', 'principal_amount': -1, \"repayments\": [\n",
    "\t\t\t{\"date\": \"1999-01-01\",\"value\": \"40\"},\n",
    "\t\t\t{\"date\": \"1999-05-01\",\"value\": \"40\"}], 'lodgement_date': '1999-02-04'\n",
    "\t\t})\n",
    "\n"
   ],
   "metadata": {
    "collapsed": false,
    "ExecuteTime": {
     "end_time": "2023-11-15T19:11:24.071505910Z",
     "start_time": "2023-11-15T19:11:24.002740563Z"
    }
   }
  }
 ]
}
